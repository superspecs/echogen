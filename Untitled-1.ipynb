{
 "cells": [
  {
   "cell_type": "code",
   "execution_count": 1,
   "metadata": {},
   "outputs": [],
   "source": [
    "import pandas as pd\n",
    "import numpy as np\n",
    "\n",
    "\n"
   ]
  },
  {
   "cell_type": "code",
   "execution_count": 2,
   "metadata": {},
   "outputs": [],
   "source": [
    "def ordinal_enc(data, col):\n",
    "    unique_vals = data[col].unique()\n",
    "    enc_map = {val: i for i, val in enumerate(unique_vals)}\n",
    "    data[col] = data[col].map(enc_map)\n",
    "    return data, enc_map"
   ]
  },
  {
   "cell_type": "code",
   "execution_count": 3,
   "metadata": {},
   "outputs": [],
   "source": [
    "def one_hot_enc(data, col):\n",
    "    unique_vals = data[col].unique()\n",
    "    one_hot_matrix = np.zeros((data.shape[0], len(unique_vals)))\n",
    "    for i, val in enumerate(unique_vals):\n",
    "        one_hot_matrix[:, i] = (data[col] == val).astype(int)\n",
    "    one_hot_df = pd.DataFrame(one_hot_matrix, columns=[f\"{col}_{val}\" for val in unique_vals])\n",
    "    data = pd.concat([data.drop(col, axis=1), one_hot_df], axis=1)\n",
    "    return data"
   ]
  }
 ],
 "metadata": {
  "kernelspec": {
   "display_name": "base",
   "language": "python",
   "name": "python3"
  },
  "language_info": {
   "codemirror_mode": {
    "name": "ipython",
    "version": 3
   },
   "file_extension": ".py",
   "mimetype": "text/x-python",
   "name": "python",
   "nbconvert_exporter": "python",
   "pygments_lexer": "ipython3",
   "version": "3.11.7"
  }
 },
 "nbformat": 4,
 "nbformat_minor": 2
}
